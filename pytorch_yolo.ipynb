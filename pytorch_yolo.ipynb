{
  "nbformat": 4,
  "nbformat_minor": 0,
  "metadata": {
    "colab": {
      "name": "pytorch_yolo.ipynb",
      "provenance": [],
      "authorship_tag": "ABX9TyM1VVM+WM9Ef2IR/t7ZkE0r",
      "include_colab_link": true
    },
    "kernelspec": {
      "name": "python3",
      "display_name": "Python 3"
    }
  },
  "cells": [
    {
      "cell_type": "markdown",
      "metadata": {
        "id": "view-in-github",
        "colab_type": "text"
      },
      "source": [
        "<a href=\"https://colab.research.google.com/github/abbaasalif/YOLO_pytorch/blob/main/pytorch_yolo.ipynb\" target=\"_parent\"><img src=\"https://colab.research.google.com/assets/colab-badge.svg\" alt=\"Open In Colab\"/></a>"
      ]
    },
    {
      "cell_type": "code",
      "metadata": {
        "id": "hstH-iUFrd4T"
      },
      "source": [
        "!mkdir cfg"
      ],
      "execution_count": null,
      "outputs": []
    },
    {
      "cell_type": "code",
      "metadata": {
        "id": "3LtrUfv8rlki",
        "colab": {
          "base_uri": "https://localhost:8080/",
          "height": 34
        },
        "outputId": "ddd90ef4-8265-42c6-f95f-314b0fbc174e"
      },
      "source": [
        "%cd cfg"
      ],
      "execution_count": null,
      "outputs": [
        {
          "output_type": "stream",
          "text": [
            "/content/cfg\n"
          ],
          "name": "stdout"
        }
      ]
    },
    {
      "cell_type": "code",
      "metadata": {
        "id": "Iyqs3tmbrnVJ",
        "colab": {
          "base_uri": "https://localhost:8080/",
          "height": 208
        },
        "outputId": "b82495e9-cfa9-4a5f-84a3-56fce404b901"
      },
      "source": [
        "!wget https://raw.githubusercontent.com/pjreddie/darknet/master/cfg/yolov3.cfg"
      ],
      "execution_count": null,
      "outputs": [
        {
          "output_type": "stream",
          "text": [
            "--2020-05-29 13:53:39--  https://raw.githubusercontent.com/pjreddie/darknet/master/cfg/yolov3.cfg\n",
            "Resolving raw.githubusercontent.com (raw.githubusercontent.com)... 151.101.0.133, 151.101.64.133, 151.101.128.133, ...\n",
            "Connecting to raw.githubusercontent.com (raw.githubusercontent.com)|151.101.0.133|:443... connected.\n",
            "HTTP request sent, awaiting response... 200 OK\n",
            "Length: 8342 (8.1K) [text/plain]\n",
            "Saving to: ‘yolov3.cfg’\n",
            "\n",
            "\ryolov3.cfg            0%[                    ]       0  --.-KB/s               \ryolov3.cfg          100%[===================>]   8.15K  --.-KB/s    in 0s      \n",
            "\n",
            "2020-05-29 13:53:39 (86.8 MB/s) - ‘yolov3.cfg’ saved [8342/8342]\n",
            "\n"
          ],
          "name": "stdout"
        }
      ]
    },
    {
      "cell_type": "code",
      "metadata": {
        "id": "KrkYaZ6prroA"
      },
      "source": [
        "from __future__ import division\n"
      ],
      "execution_count": null,
      "outputs": []
    },
    {
      "cell_type": "code",
      "metadata": {
        "id": "j26Tg9IMrxz5"
      },
      "source": [
        "import torch"
      ],
      "execution_count": null,
      "outputs": []
    },
    {
      "cell_type": "code",
      "metadata": {
        "id": "B7B0PX2qr2Pw"
      },
      "source": [
        "import torch.nn as nn"
      ],
      "execution_count": null,
      "outputs": []
    },
    {
      "cell_type": "code",
      "metadata": {
        "id": "ZbIHWrprr40l"
      },
      "source": [
        "import torch.nn.functional as F"
      ],
      "execution_count": null,
      "outputs": []
    },
    {
      "cell_type": "code",
      "metadata": {
        "id": "onjGLfrRr9Vh"
      },
      "source": [
        "from torch.autograd import Variable"
      ],
      "execution_count": null,
      "outputs": []
    },
    {
      "cell_type": "code",
      "metadata": {
        "id": "R1naGhHXsEMF"
      },
      "source": [
        "import numpy as np\n"
      ],
      "execution_count": null,
      "outputs": []
    },
    {
      "cell_type": "code",
      "metadata": {
        "id": "_CK-S1BysH_1"
      },
      "source": [
        "def parse_cfg(cfgfile):\n",
        "  \"\"\" Takes a config file \n",
        "  returns a list of blocks. Each block describes a block in neural network to be built. Block is represented as dictionary in the list\"\"\"\n",
        "  file = open(cfgfile,'r')#opening the cfg file in read mode\n",
        "  lines = file.read().split('\\n')#store the lines in a list\n",
        "  lines = [x for x in lines if len(x) > 0]               # get read of the empty lines \n",
        "  lines = [x for x in lines if x[0] != '#']              # get rid of comments\n",
        "  lines = [x.rstrip().lstrip() for x in lines]           # get rid of fringe whitespaces\n",
        "  block = {}\n",
        "  blocks = []\n",
        "\n",
        "  for line in lines:\n",
        "      if line[0] == \"[\":               # This marks the start of a new block\n",
        "          if len(block) != 0:          # If block is not empty, implies it is storing values of previous block.\n",
        "              blocks.append(block)     # add it the blocks list\n",
        "              block = {}               # re-init the block\n",
        "          block[\"type\"] = line[1:-1].rstrip()     \n",
        "      else:\n",
        "          key,value = line.split(\"=\") \n",
        "          block[key.rstrip()] = value.lstrip()\n",
        "  blocks.append(block)\n",
        "\n",
        "  return blocks\n"
      ],
      "execution_count": null,
      "outputs": []
    },
    {
      "cell_type": "code",
      "metadata": {
        "id": "scoMAhO3u50Y"
      },
      "source": [
        "def create_modules(blocks):\n",
        "    net_info = blocks[0]     #Captures the information about the input and pre-processing    \n",
        "    module_list = nn.ModuleList()\n",
        "    prev_filters = 3\n",
        "    output_filters = []\n",
        "    for index, x in enumerate(blocks[1:]):\n",
        "        module = nn.Sequential()\n",
        "\n",
        "        #check the type of block\n",
        "        #create a new module for the block\n",
        "        #append to module_list\n",
        "        if (x[\"type\"] == \"convolutional\"):\n",
        "            #Get the info about the layer\n",
        "            activation = x[\"activation\"]\n",
        "            try:\n",
        "                batch_normalize = int(x[\"batch_normalize\"])\n",
        "                bias = False\n",
        "            except:\n",
        "                batch_normalize = 0\n",
        "                bias = True\n",
        "\n",
        "            filters= int(x[\"filters\"])\n",
        "            padding = int(x[\"pad\"])\n",
        "            kernel_size = int(x[\"size\"])\n",
        "            stride = int(x[\"stride\"])\n",
        "\n",
        "            if padding:\n",
        "                pad = (kernel_size - 1) // 2\n",
        "            else:\n",
        "                pad = 0\n",
        "\n",
        "            #Add the convolutional layer\n",
        "            conv = nn.Conv2d(prev_filters, filters, kernel_size, stride, pad, bias = bias)\n",
        "            module.add_module(\"conv_{0}\".format(index), conv)\n",
        "\n",
        "            #Add the Batch Norm Layer\n",
        "            if batch_normalize:\n",
        "                bn = nn.BatchNorm2d(filters)\n",
        "                module.add_module(\"batch_norm_{0}\".format(index), bn)\n",
        "\n",
        "            #Check the activation. \n",
        "            #It is either Linear or a Leaky ReLU for YOLO\n",
        "            if activation == \"leaky\":\n",
        "                activn = nn.LeakyReLU(0.1, inplace = True)\n",
        "                module.add_module(\"leaky_{0}\".format(index), activn)\n",
        "\n",
        "        #If it's an upsampling layer\n",
        "        #We use Bilinear2dUpsampling\n",
        "        elif (x[\"type\"] == \"upsample\"):\n",
        "            stride = int(x[\"stride\"])\n",
        "            upsample = nn.Upsample(scale_factor = 2, mode = \"bilinear\")\n",
        "            module.add_module(\"upsample_{}\".format(index), upsample)\n"
      ],
      "execution_count": null,
      "outputs": []
    }
  ]
}